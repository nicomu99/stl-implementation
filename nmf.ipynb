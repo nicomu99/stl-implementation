{
 "cells": [
  {
   "cell_type": "markdown",
   "metadata": {},
   "source": [
    "# Imports"
   ]
  },
  {
   "cell_type": "code",
   "execution_count": 53,
   "metadata": {},
   "outputs": [],
   "source": [
    "import numpy as np\n",
    "import pandas as pd\n",
    "from sklearn.decomposition import PCA\n",
    "from sklearn.metrics import mean_squared_error\n",
    "from lu_crtp import lu_crtp, compareApprox"
   ]
  },
  {
   "cell_type": "markdown",
   "metadata": {},
   "source": [
    "# Define Data"
   ]
  },
  {
   "cell_type": "code",
   "execution_count": 122,
   "metadata": {},
   "outputs": [],
   "source": [
    "item_user_data = np.array([[0,1,0,1,2,2],\n",
    "              [2,3,1,1,2,2],\n",
    "              [1,1,1,0,1,1],\n",
    "              [0,2,3,4,1,1],\n",
    "              [0,0,0,0,1,0]])\n",
    "\n",
    "V = pd.DataFrame(item_user_data, index=['Vegetables', 'Fruits', 'Sweets', 'Bread', 'Coffee'])\n",
    "V.columns = ['John', 'Alice', 'Mary', 'Greg', 'Peter', 'Andrew']"
   ]
  },
  {
   "cell_type": "markdown",
   "metadata": {},
   "source": [
    "# Recommender System with no Dim. Reduction"
   ]
  },
  {
   "cell_type": "code",
   "execution_count": 135,
   "metadata": {},
   "outputs": [
    {
     "name": "stdout",
     "output_type": "stream",
     "text": [
      "                John  Alice  Mary  Greg  Peter  Andrew\n",
      "Fruits pickers   0.0   2.43  4.66  5.58   0.00    0.16\n",
      "Bread eaters     0.0   0.87  0.00  0.85   1.92    1.74\n",
      "Veggies          1.5   1.71  0.80  0.15   0.76    0.83\n",
      "            Fruits pickers  Bread eaters  Veggies\n",
      "Vegetables            0.01          1.09     0.00\n",
      "Fruits                0.04          0.55     1.33\n",
      "Sweets                0.00          0.18     0.67\n",
      "Bread                 0.64          0.52     0.00\n",
      "Coffee                0.00          0.23     0.00\n"
     ]
    }
   ],
   "source": [
    "from sklearn.decomposition import NMF\n",
    "\n",
    "# Run NMF\n",
    "nmf = NMF(3)\n",
    "nmf.fit(V)\n",
    "\n",
    "H = pd.DataFrame(np.round(nmf.components_,2), columns=V.columns)\n",
    "H.index = ['Fruits pickers', 'Bread eaters',  'Veggies']\n",
    "\n",
    "print(H)\n",
    "\n",
    "W = pd.DataFrame(np.round(nmf.transform(V),2), columns=H.index)\n",
    "W.index = V.index\n",
    "\n",
    "print(W)\n",
    "\n",
    "# Reconstruct original data\n",
    "reconstructed = pd.DataFrame(np.round(np.dot(W,H),2), columns=V.columns)\n",
    "reconstructed.index = V.index"
   ]
  },
  {
   "cell_type": "code",
   "execution_count": 124,
   "metadata": {},
   "outputs": [
    {
     "data": {
      "text/plain": [
       "0.03622333333333334"
      ]
     },
     "execution_count": 124,
     "metadata": {},
     "output_type": "execute_result"
    }
   ],
   "source": [
    "mse = mean_squared_error(V, reconstructed)\n",
    "mse"
   ]
  },
  {
   "cell_type": "markdown",
   "metadata": {},
   "source": [
    "# Recommender System with PCA"
   ]
  },
  {
   "cell_type": "code",
   "execution_count": 125,
   "metadata": {},
   "outputs": [],
   "source": [
    "# Standardize the data (optional)\n",
    "from sklearn.preprocessing import StandardScaler\n",
    "scaler = StandardScaler()\n",
    "user_item_matrix_std = scaler.fit_transform(item_user_data)\n",
    "\n",
    "# Apply PCA\n",
    "pca = PCA(n_components=2)  # Reduce to 2 dimensions for simplicity\n",
    "user_item_matrix_reduced = pca.fit_transform(user_item_matrix_std)"
   ]
  },
  {
   "cell_type": "code",
   "execution_count": 126,
   "metadata": {},
   "outputs": [],
   "source": [
    "# Make sure Matrix is non-negative\n",
    "min_value = np.min(user_item_matrix_reduced)\n",
    "user_item_matrix_reduced_shifted = user_item_matrix_reduced - min_value"
   ]
  },
  {
   "cell_type": "code",
   "execution_count": 127,
   "metadata": {},
   "outputs": [],
   "source": [
    "# Build a simple collaborative filtering model (e.g., using matrix factorization)\n",
    "from sklearn.decomposition import NMF\n",
    "nmf = NMF(n_components=2, init='random', random_state=42)\n",
    "W = nmf.fit_transform(user_item_matrix_reduced_shifted)\n",
    "H = nmf.components_\n",
    "\n",
    "# Predict ratings\n",
    "predicted_ratings = np.dot(W, H)\n",
    "\n",
    "# Shift the output back to original form\n",
    "predicted_ratings += min_value\n",
    "predicted_ratings_original_space = pca.inverse_transform(predicted_ratings)"
   ]
  },
  {
   "cell_type": "code",
   "execution_count": 128,
   "metadata": {},
   "outputs": [
    {
     "name": "stdout",
     "output_type": "stream",
     "text": [
      "Mean Squared Error: 1.5645170957314154\n"
     ]
    }
   ],
   "source": [
    "mse = mean_squared_error(item_user_data, predicted_ratings_original_space)\n",
    "print(f'Mean Squared Error: {mse}')"
   ]
  },
  {
   "cell_type": "markdown",
   "metadata": {},
   "source": [
    "# Recommender System Using LU_CRTP"
   ]
  },
  {
   "cell_type": "code",
   "execution_count": 136,
   "metadata": {},
   "outputs": [],
   "source": [
    "p_r, p_c, l_k, u_k, r_k = lu_crtp(item_user_data, 3)"
   ]
  },
  {
   "cell_type": "code",
   "execution_count": 139,
   "metadata": {},
   "outputs": [
    {
     "data": {
      "text/plain": [
       "(5, 3)"
      ]
     },
     "execution_count": 139,
     "metadata": {},
     "output_type": "execute_result"
    }
   ],
   "source": [
    "l_k.shape"
   ]
  },
  {
   "cell_type": "code",
   "execution_count": 140,
   "metadata": {},
   "outputs": [
    {
     "data": {
      "text/plain": [
       "(3, 6)"
      ]
     },
     "execution_count": 140,
     "metadata": {},
     "output_type": "execute_result"
    }
   ],
   "source": [
    "u_k.shape"
   ]
  },
  {
   "cell_type": "code",
   "execution_count": 133,
   "metadata": {},
   "outputs": [],
   "source": [
    "l_k_df = pd.DataFrame(l_k, index=['Vegetables', 'Fruits', 'Sweets', 'Bread', 'Coffee'])"
   ]
  },
  {
   "cell_type": "code",
   "execution_count": 134,
   "metadata": {},
   "outputs": [
    {
     "data": {
      "text/html": [
       "<div>\n",
       "<style scoped>\n",
       "    .dataframe tbody tr th:only-of-type {\n",
       "        vertical-align: middle;\n",
       "    }\n",
       "\n",
       "    .dataframe tbody tr th {\n",
       "        vertical-align: top;\n",
       "    }\n",
       "\n",
       "    .dataframe thead th {\n",
       "        text-align: right;\n",
       "    }\n",
       "</style>\n",
       "<table border=\"1\" class=\"dataframe\">\n",
       "  <thead>\n",
       "    <tr style=\"text-align: right;\">\n",
       "      <th></th>\n",
       "      <th>0</th>\n",
       "      <th>1</th>\n",
       "      <th>2</th>\n",
       "    </tr>\n",
       "  </thead>\n",
       "  <tbody>\n",
       "    <tr>\n",
       "      <th>Vegetables</th>\n",
       "      <td>1.000000</td>\n",
       "      <td>0.000000</td>\n",
       "      <td>0.000000</td>\n",
       "    </tr>\n",
       "    <tr>\n",
       "      <th>Fruits</th>\n",
       "      <td>0.000000</td>\n",
       "      <td>1.000000</td>\n",
       "      <td>0.000000</td>\n",
       "    </tr>\n",
       "    <tr>\n",
       "      <th>Sweets</th>\n",
       "      <td>0.000000</td>\n",
       "      <td>0.000000</td>\n",
       "      <td>1.000000</td>\n",
       "    </tr>\n",
       "    <tr>\n",
       "      <th>Bread</th>\n",
       "      <td>-0.142857</td>\n",
       "      <td>0.357143</td>\n",
       "      <td>0.214286</td>\n",
       "    </tr>\n",
       "    <tr>\n",
       "      <th>Coffee</th>\n",
       "      <td>-0.142857</td>\n",
       "      <td>-0.142857</td>\n",
       "      <td>0.714286</td>\n",
       "    </tr>\n",
       "  </tbody>\n",
       "</table>\n",
       "</div>"
      ],
      "text/plain": [
       "                   0         1         2\n",
       "Vegetables  1.000000  0.000000  0.000000\n",
       "Fruits      0.000000  1.000000  0.000000\n",
       "Sweets      0.000000  0.000000  1.000000\n",
       "Bread      -0.142857  0.357143  0.214286\n",
       "Coffee     -0.142857 -0.142857  0.714286"
      ]
     },
     "execution_count": 134,
     "metadata": {},
     "output_type": "execute_result"
    }
   ],
   "source": [
    "l_k_df"
   ]
  },
  {
   "cell_type": "code",
   "execution_count": 130,
   "metadata": {},
   "outputs": [],
   "source": [
    "lu_reduced = np.dot(l_k, u_k)"
   ]
  },
  {
   "cell_type": "code",
   "execution_count": 116,
   "metadata": {},
   "outputs": [],
   "source": [
    "lu_reduced_df = pd.DataFrame(lu_reduced, index=['John', 'Alice', 'Mary', 'Greg', 'Peter'])\n",
    "lu_reduced_df.columns = ['Vegetables', 'Fruits', 'Sweets', 'Bread', 'Coffee', 'Cereal']"
   ]
  },
  {
   "cell_type": "code",
   "execution_count": 117,
   "metadata": {},
   "outputs": [
    {
     "data": {
      "text/html": [
       "<div>\n",
       "<style scoped>\n",
       "    .dataframe tbody tr th:only-of-type {\n",
       "        vertical-align: middle;\n",
       "    }\n",
       "\n",
       "    .dataframe tbody tr th {\n",
       "        vertical-align: top;\n",
       "    }\n",
       "\n",
       "    .dataframe thead th {\n",
       "        text-align: right;\n",
       "    }\n",
       "</style>\n",
       "<table border=\"1\" class=\"dataframe\">\n",
       "  <thead>\n",
       "    <tr style=\"text-align: right;\">\n",
       "      <th></th>\n",
       "      <th>Vegetables</th>\n",
       "      <th>Fruits</th>\n",
       "      <th>Sweets</th>\n",
       "      <th>Bread</th>\n",
       "      <th>Coffee</th>\n",
       "      <th>Cereal</th>\n",
       "    </tr>\n",
       "  </thead>\n",
       "  <tbody>\n",
       "    <tr>\n",
       "      <th>John</th>\n",
       "      <td>4.000000e+00</td>\n",
       "      <td>1.0</td>\n",
       "      <td>2.0</td>\n",
       "      <td>3.000000</td>\n",
       "      <td>1.0</td>\n",
       "      <td>0.000000</td>\n",
       "    </tr>\n",
       "    <tr>\n",
       "      <th>Alice</th>\n",
       "      <td>1.000000e+00</td>\n",
       "      <td>2.0</td>\n",
       "      <td>3.0</td>\n",
       "      <td>1.000000</td>\n",
       "      <td>2.0</td>\n",
       "      <td>2.000000</td>\n",
       "    </tr>\n",
       "    <tr>\n",
       "      <th>Mary</th>\n",
       "      <td>1.000000e+00</td>\n",
       "      <td>2.0</td>\n",
       "      <td>1.0</td>\n",
       "      <td>0.000000</td>\n",
       "      <td>2.0</td>\n",
       "      <td>0.000000</td>\n",
       "    </tr>\n",
       "    <tr>\n",
       "      <th>Greg</th>\n",
       "      <td>-5.551115e-17</td>\n",
       "      <td>1.0</td>\n",
       "      <td>1.0</td>\n",
       "      <td>-0.071429</td>\n",
       "      <td>1.0</td>\n",
       "      <td>0.714286</td>\n",
       "    </tr>\n",
       "    <tr>\n",
       "      <th>Peter</th>\n",
       "      <td>0.000000e+00</td>\n",
       "      <td>1.0</td>\n",
       "      <td>0.0</td>\n",
       "      <td>-0.571429</td>\n",
       "      <td>1.0</td>\n",
       "      <td>-0.285714</td>\n",
       "    </tr>\n",
       "  </tbody>\n",
       "</table>\n",
       "</div>"
      ],
      "text/plain": [
       "         Vegetables  Fruits  Sweets     Bread  Coffee    Cereal\n",
       "John   4.000000e+00     1.0     2.0  3.000000     1.0  0.000000\n",
       "Alice  1.000000e+00     2.0     3.0  1.000000     2.0  2.000000\n",
       "Mary   1.000000e+00     2.0     1.0  0.000000     2.0  0.000000\n",
       "Greg  -5.551115e-17     1.0     1.0 -0.071429     1.0  0.714286\n",
       "Peter  0.000000e+00     1.0     0.0 -0.571429     1.0 -0.285714"
      ]
     },
     "execution_count": 117,
     "metadata": {},
     "output_type": "execute_result"
    }
   ],
   "source": [
    "lu_reduced_df"
   ]
  },
  {
   "cell_type": "code",
   "execution_count": 118,
   "metadata": {},
   "outputs": [
    {
     "name": "stdout",
     "output_type": "stream",
     "text": [
      "Mean Squared Error: 2.035544217687075\n"
     ]
    }
   ],
   "source": [
    "mse = mean_squared_error(item_user_data, lu_reduced_df)\n",
    "print(f'Mean Squared Error: {mse}')"
   ]
  }
 ],
 "metadata": {
  "kernelspec": {
   "display_name": "Python 3",
   "language": "python",
   "name": "python3"
  },
  "language_info": {
   "codemirror_mode": {
    "name": "ipython",
    "version": 3
   },
   "file_extension": ".py",
   "mimetype": "text/x-python",
   "name": "python",
   "nbconvert_exporter": "python",
   "pygments_lexer": "ipython3",
   "version": "3.11.9"
  }
 },
 "nbformat": 4,
 "nbformat_minor": 2
}
