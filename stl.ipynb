{
 "cells": [
  {
   "cell_type": "code",
   "execution_count": 1,
   "metadata": {},
   "outputs": [],
   "source": [
    "import pandas as pd\n",
    "import numpy as np\n",
    "from sklearn.decomposition import NMF, PCA\n",
    "\n",
    "from lu_crtp import lu_crtp, compareApprox"
   ]
  },
  {
   "cell_type": "code",
   "execution_count": 2,
   "metadata": {},
   "outputs": [],
   "source": [
    "\n",
    "def read_file():\n",
    "    # Read data\n",
    "    data = []\n",
    "    with open('dataset/combined_data_1.txt', 'r') as file:\n",
    "        current_movie_id = None\n",
    "        for line in file:\n",
    "            line = line.strip() \n",
    "            if ':' in line:\n",
    "                # The file contains movies and their raiting from users\n",
    "                # if there is a : in a line, it indiactes we reached the next movie\n",
    "                current_movie_id = line.split(':')[0] \n",
    "            else:\n",
    "                # Else the line contains a user id and a rating\n",
    "                if line:\n",
    "                    user_id, rating, _ = line.split(',')\n",
    "                    data.append({\n",
    "                        'MovieID': current_movie_id,\n",
    "                        'UserID': user_id,\n",
    "                        'Rating': rating\n",
    "                    })\n",
    "\n",
    "    # Create dataframe and change datatypes\n",
    "    df = pd.DataFrame(data)\n",
    "    df['MovieID'] = df['MovieID'].astype(int)\n",
    "    df['UserID'] = df['UserID'].astype(int)\n",
    "    df['Rating'] = df['Rating'].astype(float)\n",
    "    return df\n",
    "\n",
    "df = read_file()"
   ]
  },
  {
   "cell_type": "code",
   "execution_count": 3,
   "metadata": {},
   "outputs": [],
   "source": [
    "# Change the structure to a user/item matrix\n",
    "df = df.pivot(index='UserID', columns='MovieID', values='Rating')\n",
    "\n",
    "# Fill NaN values\n",
    "df.fillna(value=0, inplace=True)"
   ]
  },
  {
   "cell_type": "code",
   "execution_count": 5,
   "metadata": {},
   "outputs": [
    {
     "name": "stdout",
     "output_type": "stream",
     "text": [
      "(10, 4499)\n"
     ]
    }
   ],
   "source": [
    "data = df.to_numpy()\n",
    "\n",
    "data = data[:10]\n",
    "\n",
    "print(data.shape)"
   ]
  },
  {
   "cell_type": "code",
   "execution_count": null,
   "metadata": {},
   "outputs": [],
   "source": []
  }
 ],
 "metadata": {
  "kernelspec": {
   "display_name": "Python 3 (ipykernel)",
   "language": "python",
   "name": "python3"
  },
  "language_info": {
   "codemirror_mode": {
    "name": "ipython",
    "version": 3
   },
   "file_extension": ".py",
   "mimetype": "text/x-python",
   "name": "python",
   "nbconvert_exporter": "python",
   "pygments_lexer": "ipython3",
   "version": "3.11.7"
  }
 },
 "nbformat": 4,
 "nbformat_minor": 4
}
