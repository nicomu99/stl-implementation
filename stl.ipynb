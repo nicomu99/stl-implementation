{
 "cells": [
  {
   "cell_type": "code",
   "execution_count": 20,
   "metadata": {},
   "outputs": [],
   "source": [
    "import pandas as pd\n",
    "import numpy as np\n",
    "from sklearn.decomposition import NMF, PCA\n",
    "\n",
    "from lu_crtp import lu_crtp, compareApprox"
   ]
  },
  {
   "cell_type": "code",
   "execution_count": 7,
   "metadata": {},
   "outputs": [],
   "source": [
    "\n",
    "def read_file():\n",
    "    # Read data\n",
    "    data = []\n",
    "    with open('dataset/combined_data_1.txt', 'r') as file:\n",
    "        current_movie_id = None\n",
    "        for line in file:\n",
    "            line = line.strip() \n",
    "            if ':' in line:\n",
    "                # The file contains movies and their raiting from users\n",
    "                # if there is a : in a line, it indiactes we reached the next movie\n",
    "                current_movie_id = line.split(':')[0] \n",
    "            else:\n",
    "                # Else the line contains a user id and a rating\n",
    "                if line:\n",
    "                    user_id, rating, _ = line.split(',')\n",
    "                    data.append({\n",
    "                        'MovieID': current_movie_id,\n",
    "                        'UserID': user_id,\n",
    "                        'Rating': rating\n",
    "                    })\n",
    "\n",
    "    # Create dataframe and change datatypes\n",
    "    df = pd.DataFrame(data)\n",
    "    df['MovieID'] = df['MovieID'].astype(int)\n",
    "    df['UserID'] = df['UserID'].astype(int)\n",
    "    df['Rating'] = df['Rating'].astype(float)\n",
    "    return df\n",
    "\n",
    "df = read_file()"
   ]
  },
  {
   "cell_type": "code",
   "execution_count": 8,
   "metadata": {},
   "outputs": [],
   "source": [
    "# Change the structure to a user/item matrix\n",
    "df = df.pivot(index='UserID', columns='MovieID', values='Rating')\n",
    "\n",
    "# Fill NaN values\n",
    "df.fillna(value=0, inplace=True)"
   ]
  },
  {
   "cell_type": "code",
   "execution_count": 5,
   "metadata": {},
   "outputs": [],
   "source": [
    "A = np.array([[4, 5, 4, 5],\n",
    "              [9, 1, 2, 8],\n",
    "              [6, 8, 5, 9],\n",
    "              [1, 8, 6, 3]])"
   ]
  },
  {
   "cell_type": "code",
   "execution_count": 18,
   "metadata": {},
   "outputs": [
    {
     "name": "stdout",
     "output_type": "stream",
     "text": [
      "approx:\n",
      "[[9.         8.         5.        ]\n",
      " [8.         7.11111111 4.44444444]\n",
      " [3.         2.66666667 1.66666667]]\n",
      "PA:\n",
      "[[9 8 5]\n",
      " [8 1 2]\n",
      " [3 8 6]]\n",
      "False\n"
     ]
    }
   ],
   "source": [
    "p_r, p_c, l_k, u_k, r_k = lu_crtp(A, 3)\n",
    "\n",
    "print(compareApprox(A, p_r, p_c, l_k, u_k))"
   ]
  },
  {
   "cell_type": "code",
   "execution_count": 16,
   "metadata": {},
   "outputs": [
    {
     "name": "stdout",
     "output_type": "stream",
     "text": [
      "Original Matrix:\n",
      "[[4 5 4 5]\n",
      " [9 1 2 8]\n",
      " [6 8 5 9]\n",
      " [1 8 6 3]]\n",
      "\n",
      "Approximation Matrix (Rank 3):\n",
      "[[3.99888991 5.00011862 3.99824385 5.00075978]\n",
      " [9.00033833 0.99996772 2.00053161 7.9997678 ]\n",
      " [6.00014823 7.99998281 5.00023703 8.99989892]\n",
      " [1.00050338 7.99994844 6.0007895  2.99965455]]\n"
     ]
    }
   ],
   "source": [
    "n_components = 3\n",
    "\n",
    "model = NMF(n_components=n_components, init='random', random_state=42)\n",
    "W = model.fit_transform(A)\n",
    "H = model.components_\n",
    "\n",
    "approximation_matrix = np.dot(W, H)\n",
    "\n",
    "print(\"Original Matrix:\")\n",
    "print(A)\n",
    "print(\"\\nApproximation Matrix (Rank {}):\".format(n_components))\n",
    "print(approximation_matrix)"
   ]
  },
  {
   "cell_type": "code",
   "execution_count": 22,
   "metadata": {},
   "outputs": [
    {
     "name": "stdout",
     "output_type": "stream",
     "text": [
      "Original Matrix:\n",
      "[[4 5 4 5]\n",
      " [9 1 2 8]\n",
      " [6 8 5 9]\n",
      " [1 8 6 3]]\n",
      "\n",
      "Approximation Matrix (Rank 3):\n",
      "[[4. 5. 4. 5.]\n",
      " [9. 1. 2. 8.]\n",
      " [6. 8. 5. 9.]\n",
      " [1. 8. 6. 3.]]\n"
     ]
    }
   ],
   "source": [
    "n_components = 3\n",
    "\n",
    "pca = PCA(n_components=n_components)\n",
    "data_transformed = pca.fit_transform(A)\n",
    "\n",
    "approximation_matrix = np.dot(data_transformed, pca.components_) + pca.mean_\n",
    "\n",
    "# Print the original and approximation matrices\n",
    "print(\"Original Matrix:\")\n",
    "print(A)\n",
    "print(\"\\nApproximation Matrix (Rank {}):\".format(n_components))\n",
    "print(approximation_matrix)"
   ]
  },
  {
   "cell_type": "code",
   "execution_count": null,
   "metadata": {},
   "outputs": [],
   "source": []
  }
 ],
 "metadata": {
  "kernelspec": {
   "display_name": "Python 3 (ipykernel)",
   "language": "python",
   "name": "python3"
  },
  "language_info": {
   "codemirror_mode": {
    "name": "ipython",
    "version": 3
   },
   "file_extension": ".py",
   "mimetype": "text/x-python",
   "name": "python",
   "nbconvert_exporter": "python",
   "pygments_lexer": "ipython3",
   "version": "3.11.7"
  }
 },
 "nbformat": 4,
 "nbformat_minor": 4
}
