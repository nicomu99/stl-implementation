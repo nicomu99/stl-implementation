{
 "cells": [
  {
   "cell_type": "markdown",
   "metadata": {},
   "source": [
    "# Imports"
   ]
  },
  {
   "cell_type": "code",
   "execution_count": 2,
   "metadata": {},
   "outputs": [],
   "source": [
    "import numpy as np\n",
    "from sklearn.metrics import mean_squared_error\n",
    "from collaborative_filtering import *\n",
    "import pandas as pd\n",
    "import time"
   ]
  },
  {
   "cell_type": "markdown",
   "metadata": {},
   "source": [
    "# Define Data"
   ]
  },
  {
   "cell_type": "code",
   "execution_count": 14,
   "metadata": {},
   "outputs": [],
   "source": [
    "item_user_matrix = np.array([\n",
    "    [0,1,1,0,0],\n",
    "    [2,3,1,0,2],\n",
    "    [1,0,2,0,1],\n",
    "    [0,4,3,2,0]\n",
    "])\n",
    "\n",
    "V = pd.DataFrame(item_user_matrix, columns=['Jim', 'Pam', 'Michael', 'Angela', 'Erin'], index=['Fruits', 'Vegetables', 'Coffee', 'Bread'])"
   ]
  },
  {
   "cell_type": "code",
   "execution_count": 15,
   "metadata": {},
   "outputs": [
    {
     "data": {
      "text/html": [
       "<div>\n",
       "<style scoped>\n",
       "    .dataframe tbody tr th:only-of-type {\n",
       "        vertical-align: middle;\n",
       "    }\n",
       "\n",
       "    .dataframe tbody tr th {\n",
       "        vertical-align: top;\n",
       "    }\n",
       "\n",
       "    .dataframe thead th {\n",
       "        text-align: right;\n",
       "    }\n",
       "</style>\n",
       "<table border=\"1\" class=\"dataframe\">\n",
       "  <thead>\n",
       "    <tr style=\"text-align: right;\">\n",
       "      <th></th>\n",
       "      <th>Jim</th>\n",
       "      <th>Pam</th>\n",
       "      <th>Michael</th>\n",
       "      <th>Angela</th>\n",
       "      <th>Erin</th>\n",
       "    </tr>\n",
       "  </thead>\n",
       "  <tbody>\n",
       "    <tr>\n",
       "      <th>Fruits</th>\n",
       "      <td>0</td>\n",
       "      <td>1</td>\n",
       "      <td>1</td>\n",
       "      <td>0</td>\n",
       "      <td>0</td>\n",
       "    </tr>\n",
       "    <tr>\n",
       "      <th>Vegetables</th>\n",
       "      <td>2</td>\n",
       "      <td>3</td>\n",
       "      <td>1</td>\n",
       "      <td>0</td>\n",
       "      <td>2</td>\n",
       "    </tr>\n",
       "    <tr>\n",
       "      <th>Coffee</th>\n",
       "      <td>1</td>\n",
       "      <td>0</td>\n",
       "      <td>2</td>\n",
       "      <td>0</td>\n",
       "      <td>1</td>\n",
       "    </tr>\n",
       "    <tr>\n",
       "      <th>Bread</th>\n",
       "      <td>0</td>\n",
       "      <td>4</td>\n",
       "      <td>3</td>\n",
       "      <td>2</td>\n",
       "      <td>0</td>\n",
       "    </tr>\n",
       "  </tbody>\n",
       "</table>\n",
       "</div>"
      ],
      "text/plain": [
       "            Jim  Pam  Michael  Angela  Erin\n",
       "Fruits        0    1        1       0     0\n",
       "Vegetables    2    3        1       0     2\n",
       "Coffee        1    0        2       0     1\n",
       "Bread         0    4        3       2     0"
      ]
     },
     "execution_count": 15,
     "metadata": {},
     "output_type": "execute_result"
    }
   ],
   "source": [
    "V"
   ]
  },
  {
   "cell_type": "code",
   "execution_count": 16,
   "metadata": {},
   "outputs": [],
   "source": [
    "nmf = NMF(n_components=3).fit(item_user_matrix)\n",
    "H = nmf.components_\n",
    "W = nmf.transform(item_user_matrix)"
   ]
  },
  {
   "cell_type": "code",
   "execution_count": 17,
   "metadata": {},
   "outputs": [
    {
     "data": {
      "text/html": [
       "<div>\n",
       "<style scoped>\n",
       "    .dataframe tbody tr th:only-of-type {\n",
       "        vertical-align: middle;\n",
       "    }\n",
       "\n",
       "    .dataframe tbody tr th {\n",
       "        vertical-align: top;\n",
       "    }\n",
       "\n",
       "    .dataframe thead th {\n",
       "        text-align: right;\n",
       "    }\n",
       "</style>\n",
       "<table border=\"1\" class=\"dataframe\">\n",
       "  <thead>\n",
       "    <tr style=\"text-align: right;\">\n",
       "      <th></th>\n",
       "      <th>Jim</th>\n",
       "      <th>Pam</th>\n",
       "      <th>Michael</th>\n",
       "      <th>Angela</th>\n",
       "      <th>Erin</th>\n",
       "    </tr>\n",
       "  </thead>\n",
       "  <tbody>\n",
       "    <tr>\n",
       "      <th>0</th>\n",
       "      <td>0.027240</td>\n",
       "      <td>9.543848</td>\n",
       "      <td>0.000000</td>\n",
       "      <td>0.904880</td>\n",
       "      <td>0.027240</td>\n",
       "    </tr>\n",
       "    <tr>\n",
       "      <th>1</th>\n",
       "      <td>2.137091</td>\n",
       "      <td>0.098697</td>\n",
       "      <td>1.221059</td>\n",
       "      <td>0.000000</td>\n",
       "      <td>2.137091</td>\n",
       "    </tr>\n",
       "    <tr>\n",
       "      <th>2</th>\n",
       "      <td>0.000000</td>\n",
       "      <td>0.000000</td>\n",
       "      <td>1.739512</td>\n",
       "      <td>0.735176</td>\n",
       "      <td>0.000000</td>\n",
       "    </tr>\n",
       "  </tbody>\n",
       "</table>\n",
       "</div>"
      ],
      "text/plain": [
       "        Jim       Pam   Michael    Angela      Erin\n",
       "0  0.027240  9.543848  0.000000  0.904880  0.027240\n",
       "1  2.137091  0.098697  1.221059  0.000000  2.137091\n",
       "2  0.000000  0.000000  1.739512  0.735176  0.000000"
      ]
     },
     "execution_count": 17,
     "metadata": {},
     "output_type": "execute_result"
    }
   ],
   "source": [
    "reconstruct_H = pd.DataFrame(H, columns=['Jim', 'Pam', 'Michael', 'Angela', 'Erin'])\n",
    "reconstruct_H"
   ]
  },
  {
   "cell_type": "code",
   "execution_count": 18,
   "metadata": {},
   "outputs": [
    {
     "data": {
      "text/html": [
       "<div>\n",
       "<style scoped>\n",
       "    .dataframe tbody tr th:only-of-type {\n",
       "        vertical-align: middle;\n",
       "    }\n",
       "\n",
       "    .dataframe tbody tr th {\n",
       "        vertical-align: top;\n",
       "    }\n",
       "\n",
       "    .dataframe thead th {\n",
       "        text-align: right;\n",
       "    }\n",
       "</style>\n",
       "<table border=\"1\" class=\"dataframe\">\n",
       "  <thead>\n",
       "    <tr style=\"text-align: right;\">\n",
       "      <th></th>\n",
       "      <th>0</th>\n",
       "      <th>1</th>\n",
       "      <th>2</th>\n",
       "    </tr>\n",
       "  </thead>\n",
       "  <tbody>\n",
       "    <tr>\n",
       "      <th>Fruits</th>\n",
       "      <td>0.100281</td>\n",
       "      <td>0.023213</td>\n",
       "      <td>0.455221</td>\n",
       "    </tr>\n",
       "    <tr>\n",
       "      <th>Vegetables</th>\n",
       "      <td>0.302166</td>\n",
       "      <td>0.916377</td>\n",
       "      <td>0.000000</td>\n",
       "    </tr>\n",
       "    <tr>\n",
       "      <th>Coffee</th>\n",
       "      <td>0.000000</td>\n",
       "      <td>0.495681</td>\n",
       "      <td>0.680289</td>\n",
       "    </tr>\n",
       "    <tr>\n",
       "      <th>Bread</th>\n",
       "      <td>0.422063</td>\n",
       "      <td>0.000000</td>\n",
       "      <td>1.796809</td>\n",
       "    </tr>\n",
       "  </tbody>\n",
       "</table>\n",
       "</div>"
      ],
      "text/plain": [
       "                   0         1         2\n",
       "Fruits      0.100281  0.023213  0.455221\n",
       "Vegetables  0.302166  0.916377  0.000000\n",
       "Coffee      0.000000  0.495681  0.680289\n",
       "Bread       0.422063  0.000000  1.796809"
      ]
     },
     "execution_count": 18,
     "metadata": {},
     "output_type": "execute_result"
    }
   ],
   "source": [
    "reconstructed_W = pd.DataFrame(W, index=['Fruits', 'Vegetables', 'Coffee', 'Bread'])\n",
    "reconstructed_W"
   ]
  },
  {
   "cell_type": "code",
   "execution_count": 19,
   "metadata": {},
   "outputs": [
    {
     "data": {
      "text/plain": [
       "array([[0.05234081, 0.9593575 , 0.82020749, 0.42540992, 0.05234081],\n",
       "       [1.96661212, 2.9742665 , 1.11895058, 0.27342363, 1.96661212],\n",
       "       [1.05931551, 0.04892206, 1.78862724, 0.50013245, 1.05931551],\n",
       "       [0.01149697, 4.02810451, 3.12556993, 1.70288699, 0.01149697]])"
      ]
     },
     "execution_count": 19,
     "metadata": {},
     "output_type": "execute_result"
    }
   ],
   "source": [
    "np.dot(W, H)"
   ]
  },
  {
   "cell_type": "markdown",
   "metadata": {},
   "source": [
    "# Recommender System with no Dim. Reduction"
   ]
  },
  {
   "cell_type": "code",
   "execution_count": 3,
   "metadata": {},
   "outputs": [],
   "source": [
    "nmf_pred = nmf_wrapper(item_user_matrix)"
   ]
  },
  {
   "cell_type": "code",
   "execution_count": 4,
   "metadata": {},
   "outputs": [
    {
     "name": "stdout",
     "output_type": "stream",
     "text": [
      "Mean Squared Error: 0.03623154133121916\n"
     ]
    }
   ],
   "source": [
    "mse = mean_squared_error(item_user_matrix, nmf_pred)\n",
    "print(f'Mean Squared Error: {mse}')"
   ]
  },
  {
   "cell_type": "markdown",
   "metadata": {},
   "source": [
    "# Recommender System with PCA"
   ]
  },
  {
   "cell_type": "code",
   "execution_count": 5,
   "metadata": {},
   "outputs": [],
   "source": [
    "pred_nmf_pca = nmf_pca_wrapper(item_user_matrix)"
   ]
  },
  {
   "cell_type": "code",
   "execution_count": 6,
   "metadata": {},
   "outputs": [
    {
     "name": "stdout",
     "output_type": "stream",
     "text": [
      "Mean Squared Error: 1.46955501445551\n"
     ]
    }
   ],
   "source": [
    "mse = mean_squared_error(item_user_matrix, pred_nmf_pca)\n",
    "print(f'Mean Squared Error: {mse}')"
   ]
  },
  {
   "cell_type": "markdown",
   "metadata": {},
   "source": [
    "# Recommender System Using LU_CRTP"
   ]
  },
  {
   "cell_type": "code",
   "execution_count": 7,
   "metadata": {},
   "outputs": [],
   "source": [
    "pred = lu_crtp_wrapper(item_user_matrix)"
   ]
  },
  {
   "cell_type": "code",
   "execution_count": 8,
   "metadata": {},
   "outputs": [
    {
     "name": "stdout",
     "output_type": "stream",
     "text": [
      "Mean Squared Error: 1.7315857487660493\n"
     ]
    }
   ],
   "source": [
    "mse = mean_squared_error(item_user_matrix, pred)\n",
    "print(f'Mean Squared Error: {mse}')"
   ]
  },
  {
   "cell_type": "markdown",
   "metadata": {},
   "source": [
    "# Test Loop"
   ]
  },
  {
   "cell_type": "code",
   "execution_count": 50,
   "metadata": {},
   "outputs": [
    {
     "name": "stderr",
     "output_type": "stream",
     "text": [
      "/home/nico/VSCodeRepos/stl-implementation/stl-implementation/.conda/lib/python3.11/site-packages/sklearn/decomposition/_nmf.py:1770: ConvergenceWarning: Maximum number of iterations 200 reached. Increase it to improve convergence.\n",
      "  warnings.warn(\n"
     ]
    },
    {
     "name": "stdout",
     "output_type": "stream",
     "text": [
      "(500, 500)\n"
     ]
    },
    {
     "name": "stderr",
     "output_type": "stream",
     "text": [
      "/home/nico/VSCodeRepos/stl-implementation/stl-implementation/.conda/lib/python3.11/site-packages/sklearn/decomposition/_nmf.py:1770: ConvergenceWarning: Maximum number of iterations 200 reached. Increase it to improve convergence.\n",
      "  warnings.warn(\n"
     ]
    },
    {
     "name": "stdout",
     "output_type": "stream",
     "text": [
      "(1000, 1000)\n"
     ]
    },
    {
     "name": "stderr",
     "output_type": "stream",
     "text": [
      "/home/nico/VSCodeRepos/stl-implementation/stl-implementation/.conda/lib/python3.11/site-packages/sklearn/decomposition/_nmf.py:1770: ConvergenceWarning: Maximum number of iterations 200 reached. Increase it to improve convergence.\n",
      "  warnings.warn(\n"
     ]
    },
    {
     "name": "stdout",
     "output_type": "stream",
     "text": [
      "(1500, 1500)\n"
     ]
    },
    {
     "name": "stderr",
     "output_type": "stream",
     "text": [
      "/home/nico/VSCodeRepos/stl-implementation/stl-implementation/.conda/lib/python3.11/site-packages/sklearn/decomposition/_nmf.py:1770: ConvergenceWarning: Maximum number of iterations 200 reached. Increase it to improve convergence.\n",
      "  warnings.warn(\n"
     ]
    },
    {
     "name": "stdout",
     "output_type": "stream",
     "text": [
      "(2000, 2000)\n"
     ]
    },
    {
     "name": "stderr",
     "output_type": "stream",
     "text": [
      "/home/nico/VSCodeRepos/stl-implementation/stl-implementation/.conda/lib/python3.11/site-packages/sklearn/decomposition/_nmf.py:1770: ConvergenceWarning: Maximum number of iterations 200 reached. Increase it to improve convergence.\n",
      "  warnings.warn(\n"
     ]
    },
    {
     "name": "stdout",
     "output_type": "stream",
     "text": [
      "(2500, 2500)\n"
     ]
    },
    {
     "name": "stderr",
     "output_type": "stream",
     "text": [
      "/home/nico/VSCodeRepos/stl-implementation/stl-implementation/.conda/lib/python3.11/site-packages/sklearn/decomposition/_nmf.py:1770: ConvergenceWarning: Maximum number of iterations 200 reached. Increase it to improve convergence.\n",
      "  warnings.warn(\n"
     ]
    },
    {
     "name": "stdout",
     "output_type": "stream",
     "text": [
      "(3000, 3000)\n"
     ]
    },
    {
     "name": "stderr",
     "output_type": "stream",
     "text": [
      "/home/nico/VSCodeRepos/stl-implementation/stl-implementation/.conda/lib/python3.11/site-packages/sklearn/decomposition/_nmf.py:1770: ConvergenceWarning: Maximum number of iterations 200 reached. Increase it to improve convergence.\n",
      "  warnings.warn(\n"
     ]
    },
    {
     "name": "stdout",
     "output_type": "stream",
     "text": [
      "(3500, 3500)\n"
     ]
    },
    {
     "name": "stderr",
     "output_type": "stream",
     "text": [
      "/home/nico/VSCodeRepos/stl-implementation/stl-implementation/.conda/lib/python3.11/site-packages/sklearn/decomposition/_nmf.py:1770: ConvergenceWarning: Maximum number of iterations 200 reached. Increase it to improve convergence.\n",
      "  warnings.warn(\n"
     ]
    },
    {
     "name": "stdout",
     "output_type": "stream",
     "text": [
      "(4000, 4000)\n"
     ]
    },
    {
     "name": "stderr",
     "output_type": "stream",
     "text": [
      "/home/nico/VSCodeRepos/stl-implementation/stl-implementation/.conda/lib/python3.11/site-packages/sklearn/decomposition/_nmf.py:1770: ConvergenceWarning: Maximum number of iterations 200 reached. Increase it to improve convergence.\n",
      "  warnings.warn(\n"
     ]
    },
    {
     "name": "stdout",
     "output_type": "stream",
     "text": [
      "(4500, 4500)\n"
     ]
    },
    {
     "name": "stderr",
     "output_type": "stream",
     "text": [
      "/home/nico/VSCodeRepos/stl-implementation/stl-implementation/.conda/lib/python3.11/site-packages/sklearn/decomposition/_nmf.py:1770: ConvergenceWarning: Maximum number of iterations 200 reached. Increase it to improve convergence.\n",
      "  warnings.warn(\n"
     ]
    },
    {
     "name": "stdout",
     "output_type": "stream",
     "text": [
      "(5000, 5000)\n"
     ]
    }
   ],
   "source": [
    "# test runtime and closeness to actual matrix\n",
    "runtime_results = pd.DataFrame(columns=['n', 'NMF', 'PCA_NMF', 'LU_CRTP'])\n",
    "mae_results = pd.DataFrame(columns=['n', 'NMF', 'PCA_NMF', 'LU_CRTP'])\n",
    "mae_results.loc[len(mae_results)] = [0, 0, 0, 0]\n",
    "runtime_results.loc[len(runtime_results)] = [0, 0, 0, 0]\n",
    "\n",
    "\n",
    "for n in range(500, 5001, 500):\n",
    "    item_user_matrix = np.random.randint(6, size=(n, n))\n",
    "    orig_matrix = np.copy(item_user_matrix)\n",
    "    \n",
    "    # We should be dealing with a sparse matrix, so let's delete 60% of the values\n",
    "    delete_count = int(n * n * 0.6)\n",
    "    delete_idx = np.unravel_index(np.random.choice(n * n, delete_count, replace=False), item_user_matrix.shape)\n",
    "    item_user_matrix[delete_idx] = 0\n",
    "\n",
    "    mae = [n]\n",
    "    runtime = [n]\n",
    "    for wrapper in [nmf_wrapper, nmf_pca_wrapper, lu_crtp_wrapper]:\n",
    "        begin = time.time()\n",
    "        mae.append(mean_squared_error(orig_matrix, wrapper(item_user_matrix)))\n",
    "        runtime.append(time.time() - begin)\n",
    "\n",
    "    print(item_user_matrix.shape)\n",
    "\n",
    "    mae_results.loc[len(mae_results)] = mae\n",
    "    runtime_results.loc[len(runtime_results)] = runtime"
   ]
  },
  {
   "cell_type": "code",
   "execution_count": 51,
   "metadata": {},
   "outputs": [],
   "source": [
    "import matplotlib.pyplot as plt"
   ]
  },
  {
   "cell_type": "code",
   "execution_count": 63,
   "metadata": {},
   "outputs": [
    {
     "data": {
      "image/png": "[encoded data removed]",
      "text/plain": [
       "<Figure size 1200x600 with 1 Axes>"
      ]
     },
     "metadata": {},
     "output_type": "display_data"
    }
   ],
   "source": [
    "fig, ax = plt.subplots(figsize=(12, 6))\n",
    "fig.set_size_inches\n",
    "colors = ['red', 'green', 'blue']\n",
    "\n",
    "for i, column in enumerate(runtime_results.columns[1:]):\n",
    "    ax.plot(runtime_results['n'], runtime_results[column], marker='x', label=column, c=colors[i])\n",
    "\n",
    "plt.xlabel('Size of matrix', fontsize=18)\n",
    "plt.ylabel('Runtime [s]', fontsize=18)\n",
    "plt.legend()\n",
    "plt.grid(True, axis='y')\n",
    "\n",
    "ax.spines['top'].set_visible(False)\n",
    "ax.spines['right'].set_visible(False)\n",
    "ax.set_ylim(0)\n",
    "ax.set_xlim(0)\n",
    "\n",
    "plt.savefig('figures/cf_runtime.png')\n",
    "plt.show()"
   ]
  },
  {
   "cell_type": "code",
   "execution_count": 64,
   "metadata": {},
   "outputs": [
    {
     "data": {
      "image/png": "[encoded data removed]",
      "text/plain": [
       "<Figure size 1200x600 with 1 Axes>"
      ]
     },
     "metadata": {},
     "output_type": "display_data"
    }
   ],
   "source": [
    "fig, ax = plt.subplots(figsize=(12, 6))\n",
    "colors = ['red', 'green', 'blue']\n",
    "\n",
    "for i, column in enumerate(mae_results.columns[1:]):\n",
    "    ax.plot(mae_results['n'], mae_results[column], marker='o', label=column, c=colors[i])\n",
    "\n",
    "plt.xlabel('Size of matrix', fontsize=18)\n",
    "plt.ylabel('MSE', fontsize=18)\n",
    "plt.legend()\n",
    "plt.grid(True, axis='y')\n",
    "\n",
    "ax.spines['top'].set_visible(False)\n",
    "ax.spines['right'].set_visible(False)\n",
    "ax.set_ylim(0)\n",
    "ax.set_xlim(500)\n",
    "\n",
    "plt.savefig('figures/cf_mae.png')\n",
    "plt.show()"
   ]
  },
  {
   "cell_type": "code",
   "execution_count": null,
   "metadata": {},
   "outputs": [],
   "source": []
  }
 ],
 "metadata": {
  "kernelspec": {
   "display_name": "Python 3",
   "language": "python",
   "name": "python3"
  },
  "language_info": {
   "codemirror_mode": {
    "name": "ipython",
    "version": 3
   },
   "file_extension": ".py",
   "mimetype": "text/x-python",
   "name": "python",
   "nbconvert_exporter": "python",
   "pygments_lexer": "ipython3",
   "version": "3.11.9"
  }
 },
 "nbformat": 4,
 "nbformat_minor": 2
}
