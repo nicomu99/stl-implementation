{
 "cells": [
  {
   "cell_type": "markdown",
   "metadata": {},
   "source": [
    "# Imports"
   ]
  },
  {
   "cell_type": "code",
   "execution_count": 14,
   "metadata": {},
   "outputs": [],
   "source": [
    "import numpy as np\n",
    "from sklearn.metrics import mean_squared_error\n",
    "from collaborative_filtering import *\n",
    "import pandas as pd\n",
    "import time"
   ]
  },
  {
   "cell_type": "markdown",
   "metadata": {},
   "source": [
    "# Define Data"
   ]
  },
  {
   "cell_type": "code",
   "execution_count": 2,
   "metadata": {},
   "outputs": [],
   "source": [
    "item_user_matrix = np.array([\n",
    "    [0,1,0,1,2,2],\n",
    "    [2,3,1,1,2,2],\n",
    "    [1,1,1,0,1,1],\n",
    "    [0,2,3,4,1,1],\n",
    "    [0,0,0,0,1,0]\n",
    "])"
   ]
  },
  {
   "cell_type": "markdown",
   "metadata": {},
   "source": [
    "# Recommender System with no Dim. Reduction"
   ]
  },
  {
   "cell_type": "code",
   "execution_count": 3,
   "metadata": {},
   "outputs": [],
   "source": [
    "nmf_pred = nmf_wrapper(item_user_matrix)"
   ]
  },
  {
   "cell_type": "code",
   "execution_count": 4,
   "metadata": {},
   "outputs": [
    {
     "name": "stdout",
     "output_type": "stream",
     "text": [
      "Mean Squared Error: 0.03623154133121916\n"
     ]
    }
   ],
   "source": [
    "mse = mean_squared_error(item_user_matrix, nmf_pred)\n",
    "print(f'Mean Squared Error: {mse}')"
   ]
  },
  {
   "cell_type": "markdown",
   "metadata": {},
   "source": [
    "# Recommender System with PCA"
   ]
  },
  {
   "cell_type": "code",
   "execution_count": 5,
   "metadata": {},
   "outputs": [],
   "source": [
    "pred_nmf_pca = nmf_pca_wrapper(item_user_matrix)"
   ]
  },
  {
   "cell_type": "code",
   "execution_count": 6,
   "metadata": {},
   "outputs": [
    {
     "name": "stdout",
     "output_type": "stream",
     "text": [
      "Mean Squared Error: 1.46955501445551\n"
     ]
    }
   ],
   "source": [
    "mse = mean_squared_error(item_user_matrix, pred_nmf_pca)\n",
    "print(f'Mean Squared Error: {mse}')"
   ]
  },
  {
   "cell_type": "markdown",
   "metadata": {},
   "source": [
    "# Recommender System Using LU_CRTP"
   ]
  },
  {
   "cell_type": "code",
   "execution_count": 7,
   "metadata": {},
   "outputs": [],
   "source": [
    "pred = lu_crtp_wrapper(item_user_matrix)"
   ]
  },
  {
   "cell_type": "code",
   "execution_count": 8,
   "metadata": {},
   "outputs": [
    {
     "name": "stdout",
     "output_type": "stream",
     "text": [
      "Mean Squared Error: 1.7315857487660493\n"
     ]
    }
   ],
   "source": [
    "mse = mean_squared_error(item_user_matrix, pred)\n",
    "print(f'Mean Squared Error: {mse}')"
   ]
  },
  {
   "cell_type": "markdown",
   "metadata": {},
   "source": [
    "# Test Loop"
   ]
  },
  {
   "cell_type": "code",
   "execution_count": 21,
   "metadata": {},
   "outputs": [
    {
     "name": "stderr",
     "output_type": "stream",
     "text": [
      "/home/nico/VSCodeRepos/stl-implementation/stl-implementation/.conda/lib/python3.11/site-packages/sklearn/decomposition/_nmf.py:1770: ConvergenceWarning: Maximum number of iterations 200 reached. Increase it to improve convergence.\n",
      "  warnings.warn(\n",
      "/home/nico/VSCodeRepos/stl-implementation/stl-implementation/.conda/lib/python3.11/site-packages/sklearn/decomposition/_nmf.py:1770: ConvergenceWarning: Maximum number of iterations 200 reached. Increase it to improve convergence.\n",
      "  warnings.warn(\n"
     ]
    },
    {
     "name": "stdout",
     "output_type": "stream",
     "text": [
      "(10000, 10000)\n"
     ]
    }
   ],
   "source": [
    "# test runtime and closeness to actual matrix\n",
    "runtime_results = pd.DataFrame(columns=['n', 'NMF', 'PCA_NMF', 'LU_CRTP'])\n",
    "mae_results = pd.DataFrame(columns=['n', 'NMF', 'PCA_NMF', 'LU_CRTP'])\n",
    "\n",
    "for n in range(10000, 10001, 200):\n",
    "    item_user_matrix = np.random.randint(6, size=(n, n))\n",
    "    orig_matrix = np.copy(item_user_matrix)\n",
    "    \n",
    "    # We should be dealing with a sparse matrix, so let's delete 60% of the values\n",
    "    delete_count = int(n * n * 0.6)\n",
    "    delete_idx = np.unravel_index(np.random.choice(n * n, delete_count, replace=False), item_user_matrix.shape)\n",
    "    item_user_matrix[delete_idx] = 0\n",
    "\n",
    "    mae = [n]\n",
    "    runtime = [n]\n",
    "    for wrapper in [nmf_wrapper, nmf_pca_wrapper, lu_crtp_wrapper]:\n",
    "        begin = time.time()\n",
    "        mae.append(mean_squared_error(orig_matrix, wrapper(item_user_matrix)))\n",
    "        runtime.append(time.time() - begin)\n",
    "\n",
    "    print(item_user_matrix.shape)\n",
    "\n",
    "    mae_results.loc[len(mae_results)] = mae\n",
    "    runtime_results.loc[len(runtime_results)] = runtime\n"
   ]
  },
  {
   "cell_type": "code",
   "execution_count": 23,
   "metadata": {},
   "outputs": [
    {
     "data": {
      "text/html": [
       "<div>\n",
       "<style scoped>\n",
       "    .dataframe tbody tr th:only-of-type {\n",
       "        vertical-align: middle;\n",
       "    }\n",
       "\n",
       "    .dataframe tbody tr th {\n",
       "        vertical-align: top;\n",
       "    }\n",
       "\n",
       "    .dataframe thead th {\n",
       "        text-align: right;\n",
       "    }\n",
       "</style>\n",
       "<table border=\"1\" class=\"dataframe\">\n",
       "  <thead>\n",
       "    <tr style=\"text-align: right;\">\n",
       "      <th></th>\n",
       "      <th>n</th>\n",
       "      <th>NMF</th>\n",
       "      <th>PCA_NMF</th>\n",
       "      <th>LU_CRTP</th>\n",
       "    </tr>\n",
       "  </thead>\n",
       "  <tbody>\n",
       "    <tr>\n",
       "      <th>0</th>\n",
       "      <td>10000.0</td>\n",
       "      <td>5.166879</td>\n",
       "      <td>9.166049</td>\n",
       "      <td>5.169486</td>\n",
       "    </tr>\n",
       "  </tbody>\n",
       "</table>\n",
       "</div>"
      ],
      "text/plain": [
       "         n       NMF   PCA_NMF   LU_CRTP\n",
       "0  10000.0  5.166879  9.166049  5.169486"
      ]
     },
     "execution_count": 23,
     "metadata": {},
     "output_type": "execute_result"
    }
   ],
   "source": [
    "mae_results"
   ]
  },
  {
   "cell_type": "code",
   "execution_count": null,
   "metadata": {},
   "outputs": [],
   "source": []
  }
 ],
 "metadata": {
  "kernelspec": {
   "display_name": "Python 3",
   "language": "python",
   "name": "python3"
  },
  "language_info": {
   "codemirror_mode": {
    "name": "ipython",
    "version": 3
   },
   "file_extension": ".py",
   "mimetype": "text/x-python",
   "name": "python",
   "nbconvert_exporter": "python",
   "pygments_lexer": "ipython3",
   "version": "3.11.9"
  }
 },
 "nbformat": 4,
 "nbformat_minor": 2
}
